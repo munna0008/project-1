{
 "cells": [
  {
   "cell_type": "code",
   "execution_count": 2,
   "metadata": {
    "collapsed": true
   },
   "outputs": [],
   "source": [
    "import numpy as np"
   ]
  },
  {
   "cell_type": "code",
   "execution_count": 3,
   "metadata": {},
   "outputs": [
    {
     "data": {
      "text/plain": [
       "array([[ -4.91050164e-02,  -4.46416365e-02,   1.60854917e-01, ...,\n",
       "          2.80165065e-02,   1.13486232e-02,   3.46000000e+02],\n",
       "       [ -7.09002471e-02,   5.06801187e-02,  -8.91974838e-02, ...,\n",
       "         -1.29079423e-02,  -5.49250874e-02,   1.04000000e+02],\n",
       "       [  1.75052192e-03,  -4.46416365e-02,  -7.08746786e-02, ...,\n",
       "         -2.25121719e-02,   7.20651633e-03,   4.90000000e+01],\n",
       "       ..., \n",
       "       [  2.35457526e-02,  -4.46416365e-02,   7.03187031e-02, ...,\n",
       "         -1.91970476e-02,  -9.36191133e-03,   2.88000000e+02],\n",
       "       [  1.62806757e-02,   5.06801187e-02,   7.24743273e-02, ...,\n",
       "         -2.36445576e-02,   6.10539062e-02,   1.31000000e+02],\n",
       "       [ -9.14709343e-03,   5.06801187e-02,  -3.09956318e-02, ...,\n",
       "          6.20931562e-03,   2.79170509e-02,   4.20000000e+01]])"
      ]
     },
     "execution_count": 3,
     "metadata": {},
     "output_type": "execute_result"
    }
   ],
   "source": [
    "data=np.loadtxt(\"training_diabetes_x_y_train.csv\",delimiter=\",\")\n",
    "test=np.loadtxt(\"test_diabetes_x_test.csv\",delimiter=\",\")\n",
    "data"
   ]
  },
  {
   "cell_type": "code",
   "execution_count": 4,
   "metadata": {},
   "outputs": [
    {
     "name": "stdout",
     "output_type": "stream",
     "text": [
      "(111, 10)\n",
      "(331, 10)\n",
      "(331,)\n"
     ]
    }
   ],
   "source": [
    "xtrain=data[:,:-1]\n",
    "ytrain=data[:,-1]\n",
    "\n",
    "xtest=test[::]\n",
    "print(xtest.shape)\n",
    "print(xtrain.shape)\n",
    "print(ytrain.shape)"
   ]
  },
  {
   "cell_type": "code",
   "execution_count": 53,
   "metadata": {},
   "outputs": [
    {
     "data": {
      "text/plain": [
       "LinearRegression(copy_X=True, fit_intercept=True, n_jobs=1, normalize=False)"
      ]
     },
     "execution_count": 53,
     "metadata": {},
     "output_type": "execute_result"
    }
   ],
   "source": [
    "from sklearn.linear_model import LinearRegression\n",
    "alg1=LinearRegression()\n",
    "alg1.fit(xtrain,ytrain)\n"
   ]
  },
  {
   "cell_type": "code",
   "execution_count": 54,
   "metadata": {},
   "outputs": [
    {
     "data": {
      "text/plain": [
       "array([  21.73408096, -256.66866675,  569.60940087,  303.63233545,\n",
       "       -833.11088526,  525.74313633,  136.07129167,  140.89458927,\n",
       "        731.44498492,   53.32119133])"
      ]
     },
     "execution_count": 54,
     "metadata": {},
     "output_type": "execute_result"
    }
   ],
   "source": [
    "alg1.coef_"
   ]
  },
  {
   "cell_type": "code",
   "execution_count": 55,
   "metadata": {},
   "outputs": [
    {
     "data": {
      "text/plain": [
       "150.702574894566"
      ]
     },
     "execution_count": 55,
     "metadata": {},
     "output_type": "execute_result"
    }
   ],
   "source": [
    "alg1.intercept_"
   ]
  },
  {
   "cell_type": "code",
   "execution_count": 56,
   "metadata": {
    "collapsed": true
   },
   "outputs": [],
   "source": [
    "ytest=alg1.predict(xtest)"
   ]
  },
  {
   "cell_type": "code",
   "execution_count": 58,
   "metadata": {
    "collapsed": true
   },
   "outputs": [],
   "source": [
    "np.savetxt(\"lrassignment.csv\",ytest,delimiter=\",\")"
   ]
  },
  {
   "cell_type": "code",
   "execution_count": null,
   "metadata": {
    "collapsed": true
   },
   "outputs": [],
   "source": []
  }
 ],
 "metadata": {
  "kernelspec": {
   "display_name": "Python 3",
   "language": "python",
   "name": "python3"
  },
  "language_info": {
   "codemirror_mode": {
    "name": "ipython",
    "version": 3
   },
   "file_extension": ".py",
   "mimetype": "text/x-python",
   "name": "python",
   "nbconvert_exporter": "python",
   "pygments_lexer": "ipython3",
   "version": "3.6.2"
  }
 },
 "nbformat": 4,
 "nbformat_minor": 2
}
